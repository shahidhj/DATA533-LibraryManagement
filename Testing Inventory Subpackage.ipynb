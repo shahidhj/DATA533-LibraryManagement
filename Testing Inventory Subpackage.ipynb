{
 "cells": [
  {
   "cell_type": "markdown",
   "metadata": {},
   "source": [
    "Literature Module Testing:"
   ]
  },
  {
   "cell_type": "code",
   "execution_count": 42,
   "metadata": {},
   "outputs": [],
   "source": [
    "from Inventory.literature import Book, Periodical"
   ]
  },
  {
   "cell_type": "code",
   "execution_count": 17,
   "metadata": {},
   "outputs": [
    {
     "name": "stdout",
     "output_type": "stream",
     "text": [
      "Unique books owned in Library: 6\n",
      "Total books owned in Library: 36\n"
     ]
    }
   ],
   "source": [
    "# creating instances of books and periodicals\n",
    "\n",
    "book1 = Book(\"Data Science Book\", \"Alex\", \"Science\", 99.99, 181, 1100110101, 2016, 8)\n",
    "book2 = Book(\"Ultimate CheatBook\", \"Zach\", \"Technology\", 59.99, 100, 1010110101, 2019, 4)\n",
    "\n",
    "periodical1 = Periodical(\"Athlon Sports\", \"John Coon\", \"Sports\", 14.99, 10110110, 2019_04, 5)\n",
    "periodical2 = Periodical(\"Chop Chop\", \"Sally Sampson\", \"Cookery\", 10.99, 10111110, 2019_11, 1)\n",
    "\n",
    "# Book class attributes\n",
    "print(\"Unique books owned in Library:\", Book.unique_count)\n",
    "print(\"Total books owned in Library:\", Book.total_count)"
   ]
  },
  {
   "cell_type": "code",
   "execution_count": 18,
   "metadata": {
    "scrolled": true
   },
   "outputs": [
    {
     "name": "stdout",
     "output_type": "stream",
     "text": [
      "Count of Data Science Book is 8\n",
      "Count of Data Science Book after issuing book is 7\n",
      "Count of Data Science Book after returning book is 8\n"
     ]
    }
   ],
   "source": [
    "# Book1 - attributes and methods\n",
    "print(\"Count of\", book1.title, \"is\", book1.copies)\n",
    "book1.issued()\n",
    "print(\"Count of\", book1.title, \"after issuing book is\", book1.copies)\n",
    "book1.returned()\n",
    "print(\"Count of\", book1.title, \"after returning book is\", book1.copies)"
   ]
  },
  {
   "cell_type": "code",
   "execution_count": 21,
   "metadata": {},
   "outputs": [
    {
     "name": "stdout",
     "output_type": "stream",
     "text": [
      "Discontinued\n",
      "Title: Ultimate CheatBook \n",
      "Author: Zach\n",
      "Book Title: Ultimate CheatBook \n",
      "Book Author: Zach \n",
      "Book Genre: Technology \n",
      "Book Year: 2019 \n",
      "Number of Pages: 100 \n",
      "Copies Available: 4\n"
     ]
    }
   ],
   "source": [
    "#Book2 - attributes and methods\n",
    "book2.get_status()\n",
    "book2.display_details()\n",
    "book2.update_status(\"Discontinued\")"
   ]
  },
  {
   "cell_type": "code",
   "execution_count": 22,
   "metadata": {},
   "outputs": [
    {
     "name": "stdout",
     "output_type": "stream",
     "text": [
      "Book is discontinued\n"
     ]
    }
   ],
   "source": [
    "book2.issued()"
   ]
  },
  {
   "cell_type": "code",
   "execution_count": 23,
   "metadata": {},
   "outputs": [
    {
     "name": "stdout",
     "output_type": "stream",
     "text": [
      "Unique periodicals owned in Library: 6\n",
      "Total periodicals owned in Library: 36\n"
     ]
    }
   ],
   "source": [
    "# Periodical attributes\n",
    "print(\"Unique periodicals owned in Library:\", Book.unique_count)\n",
    "print(\"Total periodicals owned in Library:\", Book.total_count)"
   ]
  },
  {
   "cell_type": "code",
   "execution_count": 24,
   "metadata": {},
   "outputs": [
    {
     "name": "stdout",
     "output_type": "stream",
     "text": [
      "Available\n",
      "Title: Athlon Sports \n",
      "Author: John Coon\n",
      "Category: Sports \n",
      "Edition: 201904 \n",
      "Copies Available: 5\n",
      "Discontinued\n"
     ]
    }
   ],
   "source": [
    "# Periodical1\n",
    "periodical1.get_status()\n",
    "periodical1.display_details()\n",
    "\n",
    "periodical1.update_status(\"Discontinued\")\n",
    "periodical1.get_status()"
   ]
  },
  {
   "cell_type": "code",
   "execution_count": 25,
   "metadata": {},
   "outputs": [
    {
     "name": "stdout",
     "output_type": "stream",
     "text": [
      "Count of Chop Chop is 1\n",
      "Periodical not available in Library\n",
      "Count of Chop Chop after issuing is 0\n",
      "Count of Chop Chop after returning is 1\n"
     ]
    }
   ],
   "source": [
    "# Periodical2\n",
    "print(\"Count of\", periodical2.title, \"is\", periodical2.copies)\n",
    "periodical2.issued()\n",
    "periodical2.issued()\n",
    "print(\"Count of\", periodical2.title, \"after issuing is\", periodical2.copies)\n",
    "periodical2.returned()\n",
    "print(\"Count of\", periodical2.title, \"after returning is\", periodical2.copies)"
   ]
  },
  {
   "cell_type": "markdown",
   "metadata": {},
   "source": [
    "Stationary Module Testing:"
   ]
  },
  {
   "cell_type": "code",
   "execution_count": 27,
   "metadata": {},
   "outputs": [],
   "source": [
    "from Inventory.stationary import Pen, Pencil, Notebook"
   ]
  },
  {
   "cell_type": "code",
   "execution_count": 34,
   "metadata": {},
   "outputs": [
    {
     "name": "stdout",
     "output_type": "stream",
     "text": [
      "Purchasing cost of pen1 is 12.0\n"
     ]
    }
   ],
   "source": [
    "# Pen\n",
    "pen1 = Pen(\"blue\", \"gel\",\"uniball\",1.20,20)\n",
    "\n",
    "pen_purchase_quan = 10\n",
    "print(\"Purchasing cost of pen1 is\", pen1.purchase_cost(pen_purchase_quan))"
   ]
  },
  {
   "cell_type": "code",
   "execution_count": 35,
   "metadata": {},
   "outputs": [
    {
     "name": "stdout",
     "output_type": "stream",
     "text": [
      "Pen Color: blue \n",
      "Pen Type: gel \n",
      "Pen Brand: uniball \n",
      "Pen Price: 1.2\n"
     ]
    }
   ],
   "source": [
    "pen1.display_details()"
   ]
  },
  {
   "cell_type": "code",
   "execution_count": 36,
   "metadata": {},
   "outputs": [
    {
     "name": "stdout",
     "output_type": "stream",
     "text": [
      "Available quantity for pen1 is 20\n",
      "Available quantity for pen1 is 15\n"
     ]
    }
   ],
   "source": [
    "print(\"Available quantity for pen1 is\", pen1.quantity)\n",
    "pen1.sold(5)\n",
    "print(\"Available quantity for pen1 is\", pen1.quantity)"
   ]
  },
  {
   "cell_type": "code",
   "execution_count": 38,
   "metadata": {},
   "outputs": [
    {
     "name": "stdout",
     "output_type": "stream",
     "text": [
      "Available quantity for pencil1 is 25\n"
     ]
    }
   ],
   "source": [
    "# Pencil\n",
    "pencil1 = Pencil(\"Green\", \"HB\", 0.5, \"Camlin\", 0.25, 25)\n",
    "print(\"Available quantity for pencil1 is\", pencil1.quantity)"
   ]
  },
  {
   "cell_type": "code",
   "execution_count": 39,
   "metadata": {},
   "outputs": [
    {
     "name": "stdout",
     "output_type": "stream",
     "text": [
      "Available quantity for pencil1 is 23\n"
     ]
    }
   ],
   "source": [
    "pencil1.sold(5)\n",
    "pencil1.returned(3)\n",
    "print(\"Available quantity for pencil1 is\", pencil1.quantity)"
   ]
  },
  {
   "cell_type": "code",
   "execution_count": 40,
   "metadata": {},
   "outputs": [
    {
     "name": "stdout",
     "output_type": "stream",
     "text": [
      "Not Enough Quantity Available\n"
     ]
    }
   ],
   "source": [
    "pencil1.sold(40)"
   ]
  },
  {
   "cell_type": "code",
   "execution_count": 41,
   "metadata": {},
   "outputs": [
    {
     "name": "stdout",
     "output_type": "stream",
     "text": [
      "Available quantity for notebook1 is 10\n",
      "Available quantity for notebook1 is 15\n"
     ]
    }
   ],
   "source": [
    "#Notebook\n",
    "notebook1 = Notebook(\"A4\", 150, \"Classmate\", 4.99, 10)\n",
    "print(\"Available quantity for notebook1 is\", notebook1.quantity)\n",
    "notebook1.add(5)\n",
    "print(\"Available quantity for notebook1 is\", notebook1.quantity)"
   ]
  }
 ],
 "metadata": {
  "kernelspec": {
   "display_name": "Python 3",
   "language": "python",
   "name": "python3"
  },
  "language_info": {
   "codemirror_mode": {
    "name": "ipython",
    "version": 3
   },
   "file_extension": ".py",
   "mimetype": "text/x-python",
   "name": "python",
   "nbconvert_exporter": "python",
   "pygments_lexer": "ipython3",
   "version": "3.7.3"
  }
 },
 "nbformat": 4,
 "nbformat_minor": 2
}
